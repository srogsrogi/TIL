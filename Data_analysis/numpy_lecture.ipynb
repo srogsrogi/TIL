{
 "cells": [
  {
   "cell_type": "markdown",
   "id": "05f336c1",
   "metadata": {
    "id": "05f336c1"
   },
   "source": [
    "# 🚴 공유 자전거 데이터 분석 by Numpy"
   ]
  },
  {
   "cell_type": "markdown",
   "id": "bd3a11f1",
   "metadata": {
    "id": "bd3a11f1"
   },
   "source": [
    "### 0. 환경 설정 (Numpy 설치)"
   ]
  },
  {
   "cell_type": "code",
   "execution_count": 1,
   "id": "5a549e9f",
   "metadata": {
    "id": "5a549e9f"
   },
   "outputs": [
    {
     "name": "stdout",
     "output_type": "stream",
     "text": [
      "Requirement already satisfied: numpy in c:\\users\\bd\\appdata\\local\\anaconda3\\lib\\site-packages (1.26.4)\n"
     ]
    }
   ],
   "source": [
    "!pip install numpy"
   ]
  },
  {
   "cell_type": "code",
   "execution_count": 2,
   "id": "e01220c2",
   "metadata": {
    "id": "e01220c2"
   },
   "outputs": [],
   "source": [
    "import numpy as np"
   ]
  },
  {
   "cell_type": "markdown",
   "id": "3151c6ab",
   "metadata": {
    "id": "3151c6ab"
   },
   "source": [
    "### 1. 공유 자전거 대여량 데이터 준비 및 확인"
   ]
  },
  {
   "cell_type": "markdown",
   "id": "1ef42ecc",
   "metadata": {
    "id": "1ef42ecc"
   },
   "source": [
    "- ndarray 생성: `np.array`, `np.zeros`, `np.ones`, `np.arange`, `np.linspace`, `np.random`"
   ]
  },
  {
   "cell_type": "code",
   "execution_count": 3,
   "id": "4c0845f4",
   "metadata": {
    "id": "4c0845f4"
   },
   "outputs": [],
   "source": [
    "rentals = np.array([120, 150, 80, 200, 220, 300, 250, 100, 90, 180])"
   ]
  },
  {
   "cell_type": "markdown",
   "id": "c4465afd",
   "metadata": {
    "id": "c4465afd"
   },
   "source": [
    "- ndarray 속성: `ndim`, `shape`, `size`, `dtype`"
   ]
  },
  {
   "cell_type": "code",
   "execution_count": 4,
   "id": "f775db85",
   "metadata": {
    "id": "f775db85"
   },
   "outputs": [
    {
     "name": "stdout",
     "output_type": "stream",
     "text": [
      "대여량 데이터: [120 150  80 200 220 300 250 100  90 180]\n",
      "차원(ndim): 1\n",
      "형태(shape): (10,)\n",
      "크기(size): 10\n",
      "자료형(dtype): int32\n"
     ]
    }
   ],
   "source": [
    "print(\"대여량 데이터:\", rentals)\n",
    "print(\"차원(ndim):\", rentals.ndim)\n",
    "print(\"형태(shape):\", rentals.shape)\n",
    "print(\"크기(size):\", rentals.size)\n",
    "print(\"자료형(dtype):\", rentals.dtype)"
   ]
  },
  {
   "cell_type": "markdown",
   "id": "9d1546f9",
   "metadata": {
    "id": "9d1546f9"
   },
   "source": [
    "##### 💡 Python list와 ndarray의 차이\n",
    "\n",
    "- ndarray는 동일한 자료형만 저장 가능\n",
    "- ndarray는 다차원인 경우, 중첩 배열은 동일한 크기만 허용\n",
    "- 형태/길이를 확인하는 방법의 차이\n",
    "    - python list: len()\n",
    "    - ndarry: ndarray.shape, ndarray.ndim, ndarray.size"
   ]
  },
  {
   "cell_type": "code",
   "execution_count": null,
   "id": "7b592c91",
   "metadata": {
    "id": "7b592c91"
   },
   "outputs": [],
   "source": []
  },
  {
   "cell_type": "markdown",
   "id": "58a9beeb",
   "metadata": {
    "id": "58a9beeb"
   },
   "source": [
    "### 2. 특정 조건의 데이터 확인"
   ]
  },
  {
   "cell_type": "markdown",
   "id": "91b3cadf",
   "metadata": {
    "id": "91b3cadf"
   },
   "source": [
    "- 기본 인덱싱 (1D, 2D, 3D)"
   ]
  },
  {
   "cell_type": "code",
   "execution_count": null,
   "id": "a858255d",
   "metadata": {
    "id": "a858255d"
   },
   "outputs": [],
   "source": [
    "# 🙋🏻 특정일 하루의 대여량을 알고 싶어요\n",
    "print(\"첫째 날 대여량:\", rentals[0])\n",
    "print(\"마지막 날 대여량:\", rentals[-1])"
   ]
  },
  {
   "cell_type": "markdown",
   "id": "621f3548",
   "metadata": {
    "id": "621f3548"
   },
   "source": [
    "- 슬라이싱"
   ]
  },
  {
   "cell_type": "code",
   "execution_count": null,
   "id": "9939206e",
   "metadata": {
    "id": "9939206e"
   },
   "outputs": [],
   "source": [
    "# 🙋🏻 특정 기간의 대여량을 알고 싶어요\n",
    "print(\"첫 5일 대여량:\", rentals[:5])"
   ]
  },
  {
   "cell_type": "markdown",
   "id": "884574e3",
   "metadata": {
    "id": "884574e3"
   },
   "source": [
    "- 팬시 인덱싱"
   ]
  },
  {
   "cell_type": "code",
   "execution_count": null,
   "id": "b24eb453",
   "metadata": {
    "id": "b24eb453"
   },
   "outputs": [],
   "source": [
    "# 🙋🏻 특정일의 대여량을 한번에 알고 싶어요\n",
    "print(\"2, 4, 6일차 대여량:\", rentals[[1, 3, 5]])"
   ]
  },
  {
   "cell_type": "markdown",
   "id": "60d2c953",
   "metadata": {
    "id": "60d2c953"
   },
   "source": [
    "- 불리언 인덱싱"
   ]
  },
  {
   "cell_type": "code",
   "execution_count": null,
   "id": "29876603",
   "metadata": {
    "id": "29876603"
   },
   "outputs": [],
   "source": [
    "# 🙋🏻 특정 조건일 때의 대여량을 알고 싶어요\n",
    "print(\"200 이상 대여량:\", rentals[rentals >= 200])"
   ]
  },
  {
   "cell_type": "markdown",
   "id": "2bc461f0",
   "metadata": {
    "id": "2bc461f0"
   },
   "source": [
    "### 3. 데이터 분석을 위한 데이터 조작"
   ]
  },
  {
   "cell_type": "markdown",
   "id": "1ae1455b",
   "metadata": {
    "id": "1ae1455b"
   },
   "source": [
    "- 기본 산술 연산 (덧셈, 뺄셈, 곱셈, 나눗셈)"
   ]
  },
  {
   "cell_type": "code",
   "execution_count": null,
   "id": "43834ec3",
   "metadata": {
    "id": "43834ec3"
   },
   "outputs": [],
   "source": [
    "# 🙋🏻 단체 대여가 있어서 대여량이 추가됐어요\n",
    "added_rentals = np.array([120, 150, 80, 200, 220, 300, 250, 100, 90, 180])\n",
    "print(\"대여량 데이터 추가:\", rentals + added_rentals)"
   ]
  },
  {
   "cell_type": "markdown",
   "id": "05e00281",
   "metadata": {
    "id": "05e00281"
   },
   "source": [
    "- 내적(dot product)"
   ]
  },
  {
   "cell_type": "code",
   "execution_count": null,
   "id": "8093ab71",
   "metadata": {
    "id": "8093ab71"
   },
   "outputs": [],
   "source": [
    "# 🙋🏻 프로모션이 적용된 날의 총 대여량을 알고 싶어요\n",
    "promo = np.array([0, 0, 0, 0, 0, 1, 1, 0, 0, 0])\n",
    "\n",
    "promo_rentals = np.dot(rentals, promo)\n",
    "print(\"프로모션 기간 총 대여량:\", promo_rentals)"
   ]
  },
  {
   "cell_type": "markdown",
   "id": "57ec3a9c",
   "metadata": {
    "id": "57ec3a9c"
   },
   "source": [
    "- 브로드캐스팅"
   ]
  },
  {
   "cell_type": "code",
   "execution_count": null,
   "id": "68dd9bfa",
   "metadata": {
    "id": "68dd9bfa"
   },
   "outputs": [],
   "source": [
    "# 🙋🏻 대여량이 지금보다 10% 증가하면 얼마나 될까요?\n",
    "increased = rentals * 1.1\n",
    "print(\"10% 증가:\", increased)"
   ]
  },
  {
   "cell_type": "markdown",
   "id": "6196a6f8",
   "metadata": {
    "id": "6196a6f8"
   },
   "source": [
    "- 비교 연산"
   ]
  },
  {
   "cell_type": "code",
   "execution_count": null,
   "id": "0316f4f1",
   "metadata": {
    "id": "0316f4f1"
   },
   "outputs": [],
   "source": [
    "# 🙋🏻 모든 대여일 중에 특정 조건을 만족하는 대여일은 언제인가요?\n",
    "print(\"200 이상 대여한 날:\", rentals >= 200)"
   ]
  },
  {
   "cell_type": "markdown",
   "id": "0bec36ba",
   "metadata": {
    "id": "0bec36ba"
   },
   "source": [
    "- 집계 함수 (`sum`, `mean`, `max`, `min`, `std`, `cumsum`)"
   ]
  },
  {
   "cell_type": "code",
   "execution_count": null,
   "id": "60e9fead",
   "metadata": {
    "id": "60e9fead"
   },
   "outputs": [],
   "source": [
    "# 🙋🏻 대여량 통계 데이터를 알아야 해요\n",
    "mean_val = rentals.mean()\n",
    "print(\"평균 대여량:\", mean_val)\n",
    "print(\"평균 대비 차이:\", rentals - mean_val)\n",
    "\n",
    "print(\"총 대여량:\", rentals.sum())\n",
    "print(\"최고 대여일:\", rentals.max())\n",
    "print(\"최저 대여일:\", rentals.min())\n",
    "\n",
    "print(\"누적 대여량:\", rentals.cumsum())"
   ]
  },
  {
   "cell_type": "markdown",
   "id": "bc84fd08",
   "metadata": {
    "id": "bc84fd08"
   },
   "source": [
    "### 4. 데이터 순서대로 보기"
   ]
  },
  {
   "cell_type": "markdown",
   "id": "a9ad9dd5",
   "metadata": {
    "id": "a9ad9dd5"
   },
   "source": [
    "- `np.sort` (오름차순, 내림차순)"
   ]
  },
  {
   "cell_type": "code",
   "execution_count": null,
   "id": "1fe842f7",
   "metadata": {
    "id": "1fe842f7"
   },
   "outputs": [],
   "source": [
    "# 🙋🏻 대여량 순으로 정렬해서 보고 싶어요\n",
    "print(\"오름차순:\", np.sort(rentals))\n",
    "print(\"내림차순:\", np.sort(rentals)[::-1])"
   ]
  },
  {
   "cell_type": "markdown",
   "id": "05983269",
   "metadata": {
    "id": "05983269"
   },
   "source": [
    "- `np.argsort` (인덱스 기반 정렬)"
   ]
  },
  {
   "cell_type": "code",
   "execution_count": null,
   "id": "34a70ba9",
   "metadata": {
    "id": "34a70ba9"
   },
   "outputs": [],
   "source": [
    "# 🙋🏻 대여량이 높은 날은 언제에요?\n",
    "rank = np.argsort(rentals)[::-1]\n",
    "print(\"대여량 순위 (인덱스):\", rank)\n",
    "print(\"상위 3일 대여량:\", rentals[rank[:3]])"
   ]
  },
  {
   "cell_type": "markdown",
   "id": "2faa8d58",
   "metadata": {
    "id": "2faa8d58"
   },
   "source": [
    "### 5. 각각의 데이터 합쳐서 한번에 보기 (병합)"
   ]
  },
  {
   "cell_type": "markdown",
   "id": "7f27e051",
   "metadata": {
    "id": "7f27e051"
   },
   "source": [
    "- `np.vstack`, `np.hstack`"
   ]
  },
  {
   "cell_type": "code",
   "execution_count": null,
   "id": "7f95bc01",
   "metadata": {
    "id": "7f95bc01"
   },
   "outputs": [],
   "source": [
    "# 🙋🏻 날씨에 따라 대여량이 어떻게 되는지 붙여서 보고 싶어요\n",
    "\n",
    "# 날씨 데이터 (임의 생성: 평균 기온)\n",
    "temperature = np.array([2, 3, 5, 7, 6, 8, 10, 4, 3, 5])\n",
    "\n",
    "# 수평 병합\n",
    "merged = np.vstack((rentals, temperature)).T\n",
    "print(\"대여량 + 평균 기온 병합 데이터:\\n\", merged)"
   ]
  },
  {
   "cell_type": "markdown",
   "id": "c16dc2bb",
   "metadata": {
    "id": "c16dc2bb"
   },
   "source": [
    "### 6. 합쳐진 데이터를 필요에 따라 나누기 (분할)"
   ]
  },
  {
   "cell_type": "markdown",
   "id": "215b54ca",
   "metadata": {
    "id": "215b54ca"
   },
   "source": [
    "- np.split()"
   ]
  },
  {
   "cell_type": "code",
   "execution_count": null,
   "id": "87f51b99",
   "metadata": {
    "id": "87f51b99"
   },
   "outputs": [],
   "source": [
    "# 🙋🏻 전체 대여량을 주차별로 나눠서 보고 싶어요\n",
    "\n",
    "# 5일씩 2주로 나누기\n",
    "week1, week2 = np.split(rentals, 2)\n",
    "\n",
    "print(\"1주차 대여량:\", week1)\n",
    "print(\"2주차 대여량:\", week2)\n",
    "\n",
    "# 각 주차별 평균 대여량\n",
    "print(\"1주차 평균:\", week1.mean())\n",
    "print(\"2주차 평균:\", week2.mean())"
   ]
  }
 ],
 "metadata": {
  "colab": {
   "provenance": []
  },
  "kernelspec": {
   "display_name": "base",
   "language": "python",
   "name": "python3"
  },
  "language_info": {
   "codemirror_mode": {
    "name": "ipython",
    "version": 3
   },
   "file_extension": ".py",
   "mimetype": "text/x-python",
   "name": "python",
   "nbconvert_exporter": "python",
   "pygments_lexer": "ipython3",
   "version": "3.12.7"
  }
 },
 "nbformat": 4,
 "nbformat_minor": 5
}
