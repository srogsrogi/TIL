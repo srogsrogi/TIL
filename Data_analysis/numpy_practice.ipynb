{
 "cells": [
  {
   "cell_type": "markdown",
   "metadata": {
    "id": "3jq0LwezjVmk"
   },
   "source": [
    "# Numpy 실습\n",
    "\n",
    "> 다음은 5개 지점에서 판매된 과일에 대한 월별 판매량 데이터입니다. <br>\n",
    "이 데이터는 각 지점의 판매량을 월별로 나타내며, 각 지점에서 판매된 사과, 바나나, 오렌지의 판매량이 기록되어 있습니다. <br>\n",
    "이 데이터를 사용하여 여러 가지 통계적 분석과 배열 조작을 수행하세요. <br>"
   ]
  },
  {
   "cell_type": "code",
   "execution_count": 1,
   "metadata": {
    "id": "96e6-AJDjVmk"
   },
   "outputs": [],
   "source": [
    "import numpy as np\n",
    "\n",
    "# 5개 지점의 월별 사과, 바나나, 오렌지 판매량 (5x3x6 배열)\n",
    "# 5개의 지점, 3개의 과일(사과, 바나나, 오렌지), 6개월치 데이터\n",
    "sales_data = np.array([\n",
    "    # 지점 1\n",
    "    [[120, 150, 200, 230, 180, 210],  # 사과 판매량\n",
    "     [100, 140, 170, 190, 160, 180],  # 바나나 판매량\n",
    "     [90, 120, 160, 140, 130, 150]],  # 오렌지 판매량\n",
    "\n",
    "    # 지점 2\n",
    "    [[80, 90, 110, 140, 130, 120],\n",
    "     [60, 70, 90, 100, 110, 95],\n",
    "     [50, 80, 100, 110, 90, 85]],\n",
    "\n",
    "    # 지점 3\n",
    "    [[130, 140, 160, 180, 170, 190],\n",
    "     [110, 120, 130, 150, 140, 160],\n",
    "     [100, 110, 120, 130, 120, 140]],\n",
    "\n",
    "    # 지점 4\n",
    "    [[100, 130, 150, 170, 160, 180],\n",
    "     [90, 100, 110, 120, 130, 125],\n",
    "     [80, 110, 140, 130, 120, 110]],\n",
    "\n",
    "    # 지점 5\n",
    "    [[90, 110, 130, 140, 120, 130],\n",
    "     [70, 85, 100, 110, 105, 95],\n",
    "     [60, 90, 110, 100, 90, 95]]\n",
    "])"
   ]
  },
  {
   "cell_type": "markdown",
   "metadata": {
    "id": "5Hw_-wTUjVml"
   },
   "source": [
    "1. 각 지점에서 6개월 동안 판매된 **사과**, **바나나**, **오렌지**의 월별 평균 판매량을 계산하세요."
   ]
  },
  {
   "cell_type": "code",
   "execution_count": 7,
   "metadata": {
    "id": "m29JrgGMjVml"
   },
   "outputs": [
    {
     "name": "stdout",
     "output_type": "stream",
     "text": [
      "[[104. 124. 150. 172. 152. 166.]\n",
      " [ 86. 103. 120. 134. 129. 131.]\n",
      " [ 76. 102. 126. 122. 110. 116.]]\n",
      "[[104. 124. 150. 172. 152. 166.]\n",
      " [ 86. 103. 120. 134. 129. 131.]\n",
      " [ 76. 102. 126. 122. 110. 116.]]\n",
      "[[104. 124. 150. 172. 152. 166.]\n",
      " [ 86. 103. 120. 134. 129. 131.]\n",
      " [ 76. 102. 126. 122. 110. 116.]]\n"
     ]
    }
   ],
   "source": [
    "print(sales_data.mean(axis = 0))\n",
    "print(sales_data.mean(axis = 0))\n",
    "print(sales_data.mean(axis = 0))"
   ]
  },
  {
   "cell_type": "markdown",
   "metadata": {
    "id": "4UlAlbFdjVmm"
   },
   "source": [
    "2. 각 월마다 전체 지점에서 가장 많이 판매된 과일을 찾아 판매량과 과일명을 출력하세요."
   ]
  },
  {
   "cell_type": "code",
   "execution_count": null,
   "metadata": {
    "id": "Ehfw8dZBjVmm"
   },
   "outputs": [],
   "source": []
  },
  {
   "cell_type": "markdown",
   "metadata": {
    "id": "ZhOhLK0HjVmm"
   },
   "source": [
    "3. 6개월 동안 전체 지점에서 가장 많이 판매된 과일의 총량을 과일별로 구하세요. 어떤 과일이 가장 많이 판매되었는지 확인하세요."
   ]
  },
  {
   "cell_type": "code",
   "execution_count": null,
   "metadata": {
    "id": "a32LjOHEjVmm"
   },
   "outputs": [],
   "source": []
  },
  {
   "cell_type": "markdown",
   "metadata": {
    "id": "3rQ9iO45jVmm"
   },
   "source": [
    "4. 각 지점에서 판매량이 150개 이상인 데이터를 추출하고 그에 해당하는 지점과 과일을 출력하세요."
   ]
  },
  {
   "cell_type": "code",
   "execution_count": null,
   "metadata": {
    "id": "md8bQXIKjVmm"
   },
   "outputs": [],
   "source": []
  }
 ],
 "metadata": {
  "colab": {
   "provenance": []
  },
  "kernelspec": {
   "display_name": "base",
   "language": "python",
   "name": "python3"
  },
  "language_info": {
   "codemirror_mode": {
    "name": "ipython",
    "version": 3
   },
   "file_extension": ".py",
   "mimetype": "text/x-python",
   "name": "python",
   "nbconvert_exporter": "python",
   "pygments_lexer": "ipython3",
   "version": "3.12.7"
  }
 },
 "nbformat": 4,
 "nbformat_minor": 0
}
